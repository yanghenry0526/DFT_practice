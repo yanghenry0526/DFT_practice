{
 "cells": [
  {
   "cell_type": "code",
   "execution_count": null,
   "id": "5f625bac",
   "metadata": {},
   "outputs": [],
   "source": [
    "import numpy as np\n",
    "from numpy.fft import fft2 , ifft2, fftshift\n",
    "import cv2\n",
    "from numpy.random import normal\n",
    "\n",
    "img = cv2.imread('noise_lena.jpg' , -1) #加上-1表灰階，變成二維陣列 才能傅立葉轉換\n",
    "nr,nc = img.shape[:2]\n",
    "#傅立葉轉換\n",
    "fp = np.zeros([nr,nc])  #512*512的空陣列\n",
    "for i in range(nr):\n",
    "    for j in range(nc):\n",
    "        fp[i,j] = pow(-1,i+j) * img[i,j]\n",
    "        \n",
    "IMG = fft2(fp)\n",
    "G = IMG.copy()\n",
    "#呈上idel filter的函數\n",
    "for u in range(nr):\n",
    "    for v in range(nc):\n",
    "        dist = np.sqrt((u-nr/2)*(u-nr/2) + (u-nc/2)*(u-nc/2))  #dist夠大就變0\n",
    "        H = np.exp(-(dist*dist)/(2*100*100))  #高斯函數\n",
    "        G[u,v] = G[u,v] * H\n",
    "        \n",
    "#逆轉換回來\n",
    "gp = ifft2(G)\n",
    "gp2 = np.zeros([nr,nc])\n",
    "for i in range(nr):\n",
    "    for j in range(nc):\n",
    "        gp2[i,j] = round(pow(-1,i+j) * np.real(gp[i,j]),0) \n",
    "        \n",
    "n = np.uint8(np.clip(gp2,0,255))        \n",
    "cv2.imshow(\"original\",img)\n",
    "cv2.imshow(\"noise\",n)\n",
    "\n",
    "cv2.waitKey(0)"
   ]
  },
  {
   "cell_type": "code",
   "execution_count": null,
   "id": "0ea52a2a",
   "metadata": {},
   "outputs": [],
   "source": []
  }
 ],
 "metadata": {
  "kernelspec": {
   "display_name": "Python 3 (ipykernel)",
   "language": "python",
   "name": "python3"
  },
  "language_info": {
   "codemirror_mode": {
    "name": "ipython",
    "version": 3
   },
   "file_extension": ".py",
   "mimetype": "text/x-python",
   "name": "python",
   "nbconvert_exporter": "python",
   "pygments_lexer": "ipython3",
   "version": "3.7.13"
  }
 },
 "nbformat": 4,
 "nbformat_minor": 5
}
