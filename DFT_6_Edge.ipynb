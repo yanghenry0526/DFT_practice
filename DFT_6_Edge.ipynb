{
 "cells": [
  {
   "cell_type": "code",
   "execution_count": null,
   "id": "7a9ea774",
   "metadata": {},
   "outputs": [],
   "source": [
    "import cv2\n",
    "\n",
    "img = cv2.imread('gauss_noise_test_50.jpg')\n",
    "\n",
    "\n",
    "blur_img = cv2.GaussianBlur(img , (11,11) , 0)\n",
    "img_edge = cv2.Canny(image = blur_img , threshold1 = 100 ,threshold2 = 150)\n",
    "\n",
    "cv2.imshow('Original' , img)\n",
    "cv2.imshow('Blur' , blur_img)\n",
    "cv2.imshow('Edge' , img_edge)\n",
    "\n",
    "cv2.waitKey(0)"
   ]
  },
  {
   "cell_type": "code",
   "execution_count": null,
   "id": "d7abf042",
   "metadata": {},
   "outputs": [],
   "source": []
  }
 ],
 "metadata": {
  "kernelspec": {
   "display_name": "Python 3 (ipykernel)",
   "language": "python",
   "name": "python3"
  },
  "language_info": {
   "codemirror_mode": {
    "name": "ipython",
    "version": 3
   },
   "file_extension": ".py",
   "mimetype": "text/x-python",
   "name": "python",
   "nbconvert_exporter": "python",
   "pygments_lexer": "ipython3",
   "version": "3.7.15"
  }
 },
 "nbformat": 4,
 "nbformat_minor": 5
}
