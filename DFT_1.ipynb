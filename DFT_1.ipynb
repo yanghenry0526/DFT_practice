{
 "cells": [
  {
   "cell_type": "code",
   "execution_count": null,
   "id": "20eb63d0",
   "metadata": {},
   "outputs": [],
   "source": [
    "import numpy as np\n",
    "from numpy.fft import fft2 , ifft2, fftshift\n",
    "import cv2\n",
    "\n",
    "img = cv2.imread('lena.bmp' , -1) #加上-1表灰階，變成二維陣列 才能傅立葉轉換\n",
    "\n",
    "IMG = fft2(img)\n",
    "FIMG = fftshift(IMG)  #上下左右對稱\n",
    "mag = np.log(np.abs(FIMG) + 1) #經過log轉換可以看得比較清楚\n",
    "mag = mag/mag.max() * 255 #保持在0-255之間\n",
    "fftimg = np.uint8(mag) #uint8  是8bit\n",
    "\n",
    "cv2.imshow(\"original\",img)\n",
    "cv2.imshow(\"result\",fftimg)\n",
    "cv2.waitKey(0)"
   ]
  },
  {
   "cell_type": "code",
   "execution_count": null,
   "id": "54abf205",
   "metadata": {},
   "outputs": [],
   "source": []
  }
 ],
 "metadata": {
  "kernelspec": {
   "display_name": "Python 3 (ipykernel)",
   "language": "python",
   "name": "python3"
  },
  "language_info": {
   "codemirror_mode": {
    "name": "ipython",
    "version": 3
   },
   "file_extension": ".py",
   "mimetype": "text/x-python",
   "name": "python",
   "nbconvert_exporter": "python",
   "pygments_lexer": "ipython3",
   "version": "3.7.13"
  }
 },
 "nbformat": 4,
 "nbformat_minor": 5
}
