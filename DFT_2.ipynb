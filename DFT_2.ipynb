{
 "cells": [
  {
   "cell_type": "code",
   "execution_count": null,
   "id": "d533bea3",
   "metadata": {},
   "outputs": [],
   "source": [
    "import numpy as np\n",
    "from numpy.fft import fft2 , ifft2, fftshift\n",
    "import cv2\n",
    "from numpy.random import normal\n",
    "\n",
    "img = cv2.imread('lena.bmp' , -1) #加上-1表灰階，變成二維陣列 才能傅立葉轉換\n",
    "n = img.copy()\n",
    "nr,nc = img.shape[:2]\n",
    "\n",
    "for i in range(nr):\n",
    "    for j in range(nc):\n",
    "        value = img[i,j] + normal(0,20)\n",
    "        n[i,j] = np.uint8(np.clip(value , 0 , 255))\n",
    "\n",
    "cv2.imshow(\"original\",img)\n",
    "cv2.imshow(\"noise\",n)\n",
    "cv2.imwrite('noise_lena.jpg' , n)\n",
    "cv2.waitKey(0)"
   ]
  },
  {
   "cell_type": "code",
   "execution_count": null,
   "id": "fa1e0665",
   "metadata": {},
   "outputs": [],
   "source": []
  },
  {
   "cell_type": "code",
   "execution_count": null,
   "id": "f52fa2bc",
   "metadata": {},
   "outputs": [],
   "source": []
  }
 ],
 "metadata": {
  "kernelspec": {
   "display_name": "Python 3 (ipykernel)",
   "language": "python",
   "name": "python3"
  },
  "language_info": {
   "codemirror_mode": {
    "name": "ipython",
    "version": 3
   },
   "file_extension": ".py",
   "mimetype": "text/x-python",
   "name": "python",
   "nbconvert_exporter": "python",
   "pygments_lexer": "ipython3",
   "version": "3.7.15"
  }
 },
 "nbformat": 4,
 "nbformat_minor": 5
}
